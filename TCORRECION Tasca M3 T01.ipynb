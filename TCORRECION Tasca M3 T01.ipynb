{
 "cells": [
  {
   "cell_type": "markdown",
   "id": "4b5bcf42",
   "metadata": {},
   "source": [
    "# Tasca M3 T01\n",
    "## Allison Garces Castaño"
   ]
  },
  {
   "cell_type": "code",
   "execution_count": 7,
   "id": "fa54ed2b",
   "metadata": {},
   "outputs": [],
   "source": [
    "#Importaciones.\n",
    "\n",
    "import numpy as np\n",
    "from scipy import stats as st"
   ]
  },
  {
   "cell_type": "markdown",
   "id": "03859f87",
   "metadata": {},
   "source": [
    "### Ejercicio 1\n",
    "Crea una función que dado un Array de una dimensión, te haga un resumen estadístico básico de los datos. Si detecta que el array tiene más de una dimensión, debe mostrar un mensaje de error."
   ]
  },
  {
   "cell_type": "code",
   "execution_count": 9,
   "id": "a50282e7",
   "metadata": {},
   "outputs": [
    {
     "name": "stdout",
     "output_type": "stream",
     "text": [
      "Resumen estadistico basico de datos:\n",
      " [29 18 34 44 36 11 38  1 38 40  9 13 18 46 39 24 25 31 35 27]\n",
      "La media es:  27.8\n",
      "La mediana es:  30.0\n",
      "La desviacion tipica es:  12.315031465652048\n",
      "La variancia es:  151.66000000000003\n",
      "La correlacion es:  1.0\n",
      "La moda es:  ModeResult(mode=array([18]), count=array([2]))\n"
     ]
    }
   ],
   "source": [
    "def array(arr):\n",
    "    \n",
    "    print(\"Resumen estadistico basico de datos:\\n\", arr)\n",
    "    \n",
    "    print(\"La media es: \", np.mean(arr))\n",
    "    print(\"La mediana es: \", np.median(arr))\n",
    "    print(\"La desviacion tipica es: \", np.std(arr))\n",
    "    print(\"La variancia es: \", np.var(arr))\n",
    "\n",
    "    print(\"La correlacion es: \", np.corrcoef(arr))\n",
    "    print(\"La moda es: \", st.mode(arr))\n",
    "    \n",
    "    if arr.ndim > 1:\n",
    "        print(\"¡ERROR! No puede tener mas de una dimension para este analisis, total:\", arr.ndim)\n",
    "                                                    \n",
    "    return np.array(arr)\n",
    "\n",
    "arr = np.random.randint(0,50, size=(20))\n",
    "\n",
    "\"\"\"arr = np.random.randint(0,50, size=(3,4)) \n",
    "    COMPROBACION PARA EL IF.\n",
    "\"\"\"\n",
    "resultado = array(arr)\n",
    "\n"
   ]
  },
  {
   "cell_type": "markdown",
   "id": "7371dc8e",
   "metadata": {},
   "source": [
    "### Ejercicio 2\n",
    "Crea una función que genere un cuadrado NxN de números aleatorios entre el 0 y el 100."
   ]
  },
  {
   "cell_type": "code",
   "execution_count": 11,
   "id": "6478348f",
   "metadata": {},
   "outputs": [
    {
     "name": "stdout",
     "output_type": "stream",
     "text": [
      "[[23  9 51 20 30]\n",
      " [43 25 72 43 83]\n",
      " [36 69 78 90 32]]\n"
     ]
    }
   ],
   "source": [
    "def array(arr):\n",
    "    \n",
    "    return print(np.array(arr))\n",
    "\n",
    "arr = np.random.randint(0,100, size=(3,5))\n",
    "resultado = array(arr)"
   ]
  },
  {
   "cell_type": "markdown",
   "id": "82cba179",
   "metadata": {},
   "source": [
    "### Ejercicio 3\n",
    "Crea una función que dada una tabla de dos dimensiones (NxM), te calcule los totales por fila y los totales por columna."
   ]
  },
  {
   "cell_type": "code",
   "execution_count": 17,
   "id": "732c3ad1",
   "metadata": {},
   "outputs": [
    {
     "name": "stdout",
     "output_type": "stream",
     "text": [
      "El resultado de la suma de columnas es:  [143 109  98 129  93]\n",
      "El resultado de la suma de filas es:  [138 141 144 149]\n",
      "Array sumada:\n",
      " [[45 11 22 29 31]\n",
      " [20 40 47 10 24]\n",
      " [38 43 16 41  6]\n",
      " [40 15 13 49 32]]\n"
     ]
    }
   ],
   "source": [
    "def array(arr):\n",
    "    \n",
    "    print(\"El resultado de la suma de columnas es: \", np.apply_along_axis(sum, 0, arr))\n",
    "    print(\"El resultado de la suma de filas es: \", np.apply_along_axis(sum, 1, arr))\n",
    "    \n",
    "    return print(\"Array sumada:\\n\",np.array(arr))\n",
    "\n",
    "arr = array(np.random.randint(5,50, size=(4,5)))\n",
    "#resultado = array(arr)\n",
    "\n"
   ]
  },
  {
   "cell_type": "markdown",
   "id": "4293d00b",
   "metadata": {},
   "source": [
    "### Ejercicio 4\n",
    "\n",
    "Implementa manualmente una función que calcule el coeficiente de correlación. Infórmate sobre sus usos e interpretación."
   ]
  },
  {
   "cell_type": "code",
   "execution_count": 18,
   "id": "d444dd97",
   "metadata": {},
   "outputs": [
    {
     "name": "stdout",
     "output_type": "stream",
     "text": [
      "[[1.         0.93130474]\n",
      " [0.93130474 1.        ]]\n"
     ]
    }
   ],
   "source": [
    "def array(altura,peso):\n",
    "    \n",
    "    corr = np.corrcoef(altura, peso)\n",
    "    \n",
    "    return print(corr)\n",
    "\n",
    "array(np.array([1.61, 1.73, 1.49], dtype=float),np.array([53, 79, 48], dtype=float))"
   ]
  },
  {
   "cell_type": "code",
   "execution_count": null,
   "id": "96d7eb93",
   "metadata": {},
   "outputs": [],
   "source": []
  }
 ],
 "metadata": {
  "kernelspec": {
   "display_name": "Python 3 (ipykernel)",
   "language": "python",
   "name": "python3"
  },
  "language_info": {
   "codemirror_mode": {
    "name": "ipython",
    "version": 3
   },
   "file_extension": ".py",
   "mimetype": "text/x-python",
   "name": "python",
   "nbconvert_exporter": "python",
   "pygments_lexer": "ipython3",
   "version": "3.9.12"
  }
 },
 "nbformat": 4,
 "nbformat_minor": 5
}
