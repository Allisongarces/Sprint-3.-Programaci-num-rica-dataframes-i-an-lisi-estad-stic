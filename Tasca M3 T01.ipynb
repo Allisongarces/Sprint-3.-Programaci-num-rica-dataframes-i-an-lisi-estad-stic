{
 "cells": [
  {
   "cell_type": "markdown",
   "id": "95ffdb30",
   "metadata": {},
   "source": [
    "# Tasca M3 T01\n",
    "## Allison Garces Castaño"
   ]
  },
  {
   "cell_type": "code",
   "execution_count": 78,
   "id": "50722846",
   "metadata": {},
   "outputs": [],
   "source": [
    "import numpy as np"
   ]
  },
  {
   "cell_type": "markdown",
   "id": "5a8af7e1",
   "metadata": {},
   "source": [
    "### Ejercicio 1\n",
    "Crea una función que dado un Array de una dimensión, te haga un resumen estadístico básico de los datos. Si detecta que el array tiene más de una dimensión, debe mostrar un mensaje de error."
   ]
  },
  {
   "cell_type": "code",
   "execution_count": 79,
   "id": "1b418d72",
   "metadata": {},
   "outputs": [
    {
     "data": {
      "text/plain": [
       "array([[  0.34185544,   8.30710694,  -1.28172328, -12.25033852,\n",
       "          2.51100246,  -1.57776509],\n",
       "       [ -4.91369936,  -7.70149887,   2.15694144,   0.4121719 ,\n",
       "          4.76752464,   2.7210103 ],\n",
       "       [ -2.74664502,  -0.59265659,  10.41115786,   4.38560621,\n",
       "          7.91241878,   4.58029897],\n",
       "       [ -4.84246412,   0.02160125,   1.00851603,   7.51231443,\n",
       "          5.41626333,  -3.12694179],\n",
       "       [ -4.45053744,  -8.55214447,   0.34919774,   8.92558659,\n",
       "          6.85451234,  -0.24237739]])"
      ]
     },
     "execution_count": 79,
     "metadata": {},
     "output_type": "execute_result"
    }
   ],
   "source": [
    "d = np.random.randn(5,6) *5\n",
    "d"
   ]
  },
  {
   "cell_type": "code",
   "execution_count": 80,
   "id": "79e2cddb",
   "metadata": {},
   "outputs": [
    {
     "data": {
      "text/plain": [
       "0.8772098236056753"
      ]
     },
     "execution_count": 80,
     "metadata": {},
     "output_type": "execute_result"
    }
   ],
   "source": [
    "#Media Aritmetica\n",
    "\n",
    "np.mean(d)"
   ]
  },
  {
   "cell_type": "code",
   "execution_count": 81,
   "id": "9c9c6655",
   "metadata": {},
   "outputs": [
    {
     "data": {
      "text/plain": [
       "array([-3.3222981 , -1.70351835,  2.52881796,  1.79706812,  5.49234431,\n",
       "        0.470845  ])"
      ]
     },
     "execution_count": 81,
     "metadata": {},
     "output_type": "execute_result"
    }
   ],
   "source": [
    "#Media aritmetica de cada columna\n",
    "\n",
    "np.mean(d, 0)"
   ]
  },
  {
   "cell_type": "code",
   "execution_count": 82,
   "id": "6ee1ecc1",
   "metadata": {},
   "outputs": [
    {
     "data": {
      "text/plain": [
       "0.3806848199521655"
      ]
     },
     "execution_count": 82,
     "metadata": {},
     "output_type": "execute_result"
    }
   ],
   "source": [
    "#Mediana\n",
    "\n",
    "np.median(d)"
   ]
  },
  {
   "cell_type": "code",
   "execution_count": 83,
   "id": "8c5dfeaf",
   "metadata": {},
   "outputs": [
    {
     "data": {
      "text/plain": [
       "array([-4.45053744, -0.59265659,  1.00851603,  4.38560621,  5.41626333,\n",
       "       -0.24237739])"
      ]
     },
     "execution_count": 83,
     "metadata": {},
     "output_type": "execute_result"
    }
   ],
   "source": [
    "#Mediana aritmetica de cada columna\n",
    "\n",
    "np.median(d, 0)"
   ]
  },
  {
   "cell_type": "code",
   "execution_count": 84,
   "id": "af4f1c45",
   "metadata": {},
   "outputs": [
    {
     "data": {
      "text/plain": [
       "5.427893301944359"
      ]
     },
     "execution_count": 84,
     "metadata": {},
     "output_type": "execute_result"
    }
   ],
   "source": [
    "#Desviación típica\n",
    "np.std(d)"
   ]
  },
  {
   "cell_type": "code",
   "execution_count": 85,
   "id": "e145f9f2",
   "metadata": {},
   "outputs": [
    {
     "data": {
      "text/plain": [
       "29.46202569729244"
      ]
     },
     "execution_count": 85,
     "metadata": {},
     "output_type": "execute_result"
    }
   ],
   "source": [
    "#Varianza\n",
    "\n",
    "np.var(d) "
   ]
  },
  {
   "cell_type": "code",
   "execution_count": 86,
   "id": "37750bef",
   "metadata": {},
   "outputs": [
    {
     "data": {
      "text/plain": [
       "ModeResult(mode=array([[ -4.91369936,  -8.55214447,  -1.28172328, -12.25033852,\n",
       "          2.51100246,  -3.12694179]]), count=array([[1, 1, 1, 1, 1, 1]]))"
      ]
     },
     "execution_count": 86,
     "metadata": {},
     "output_type": "execute_result"
    }
   ],
   "source": [
    "#Moda\n",
    "\n",
    "stats.mode(d)"
   ]
  },
  {
   "cell_type": "code",
   "execution_count": 87,
   "id": "171acd03",
   "metadata": {},
   "outputs": [
    {
     "data": {
      "text/plain": [
       "array([[ 1.        , -0.41344317, -0.26589069, -0.4494626 , -0.73140168],\n",
       "       [-0.41344317,  1.        ,  0.85333209,  0.42160616,  0.78349683],\n",
       "       [-0.26589069,  0.85333209,  1.        ,  0.51703252,  0.61915135],\n",
       "       [-0.4494626 ,  0.42160616,  0.51703252,  1.        ,  0.78432176],\n",
       "       [-0.73140168,  0.78349683,  0.61915135,  0.78432176,  1.        ]])"
      ]
     },
     "execution_count": 87,
     "metadata": {},
     "output_type": "execute_result"
    }
   ],
   "source": [
    "#Correlaccion\n",
    "\n",
    "np.corrcoef(d)"
   ]
  },
  {
   "cell_type": "code",
   "execution_count": 88,
   "id": "162bb748",
   "metadata": {},
   "outputs": [
    {
     "data": {
      "text/plain": [
       "array([[ 1.        , -0.41344317],\n",
       "       [-0.41344317,  1.        ]])"
      ]
     },
     "execution_count": 88,
     "metadata": {},
     "output_type": "execute_result"
    }
   ],
   "source": [
    "#Calculando la correlación entre dos vectores.\n",
    "\n",
    "np.corrcoef(d[0], d[1])"
   ]
  },
  {
   "cell_type": "markdown",
   "id": "f38df85d",
   "metadata": {},
   "source": [
    "### Ejercicio 2\n",
    "Crea una función que genere un cuadrado NxN de números aleatorios entre el 0 y el 100."
   ]
  },
  {
   "cell_type": "code",
   "execution_count": 89,
   "id": "9c75e2fa",
   "metadata": {},
   "outputs": [
    {
     "name": "stdout",
     "output_type": "stream",
     "text": [
      "[[38 80 40 81 76]\n",
      " [54 34 36 41 11]\n",
      " [57 90  0 34 99]]\n"
     ]
    }
   ],
   "source": [
    "a = np.random.randint(0,100, size=(3,5))\n",
    "print(a)"
   ]
  },
  {
   "cell_type": "markdown",
   "id": "f103f4af",
   "metadata": {},
   "source": [
    "### Ejercicio 3\n",
    "Crea una función que dada una tabla de dos dimensiones (NxM), te calcule los totales por fila y los totales por columna."
   ]
  },
  {
   "cell_type": "code",
   "execution_count": 90,
   "id": "ba0b407f",
   "metadata": {},
   "outputs": [
    {
     "name": "stdout",
     "output_type": "stream",
     "text": [
      "[[42  7  9 13 15]\n",
      " [38 32 16 49 12]\n",
      " [ 7  9 19 21 29]\n",
      " [24 27 32 41 17]]\n",
      "El resultado de la suma de columnas es:  [111  75  76 124  73]\n",
      "El resultado de la suma de filas es:  [ 86 147  85 141]\n"
     ]
    }
   ],
   "source": [
    "a = np.random.randint(5,50, size=(4,5))\n",
    "print(a)\n",
    "\n",
    "print(\"El resultado de la suma de columnas es: \", np.apply_along_axis(sum, 0, a))\n",
    "print(\"El resultado de la suma de filas es: \", np.apply_along_axis(sum, 1, a))"
   ]
  },
  {
   "cell_type": "markdown",
   "id": "c13e5a09",
   "metadata": {},
   "source": [
    "### Ejercicio 4\n",
    "\n",
    "Implementa manualmente una función que calcule el coeficiente de correlación. Infórmate sobre sus usos e interpretación."
   ]
  },
  {
   "cell_type": "code",
   "execution_count": 91,
   "id": "33502886",
   "metadata": {},
   "outputs": [
    {
     "name": "stdout",
     "output_type": "stream",
     "text": [
      "[[1.         0.93130474]\n",
      " [0.93130474 1.        ]]\n"
     ]
    }
   ],
   "source": [
    "altura = np.array([1.61, 1.73, 1.49], dtype=float)\n",
    "peso = np.array([53, 79, 48], dtype=float)\n",
    "\n",
    "corr = np.corrcoef(altura, peso)\n",
    "print(corr)"
   ]
  },
  {
   "cell_type": "code",
   "execution_count": null,
   "id": "ebeb77f9",
   "metadata": {},
   "outputs": [],
   "source": []
  }
 ],
 "metadata": {
  "kernelspec": {
   "display_name": "Python 3 (ipykernel)",
   "language": "python",
   "name": "python3"
  },
  "language_info": {
   "codemirror_mode": {
    "name": "ipython",
    "version": 3
   },
   "file_extension": ".py",
   "mimetype": "text/x-python",
   "name": "python",
   "nbconvert_exporter": "python",
   "pygments_lexer": "ipython3",
   "version": "3.9.12"
  }
 },
 "nbformat": 4,
 "nbformat_minor": 5
}
